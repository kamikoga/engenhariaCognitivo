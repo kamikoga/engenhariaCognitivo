{
 "cells": [
  {
   "cell_type": "code",
   "execution_count": null,
   "metadata": {},
   "outputs": [],
   "source": [
    "#importa bibliotecas\n",
    "import pandas\n",
    "import sqlalchemy\n",
    "import pyodbc\n",
    "import os\n",
    "import sys"
   ]
  },
  {
   "cell_type": "code",
   "execution_count": null,
   "metadata": {},
   "outputs": [],
   "source": [
    "#Lê caminho para arquivos de variável proveniente de sh\n",
    "pathToFiles = sys.argv[1]\n",
    "\n",
    "#Lê arquivos\n",
    "try:\n",
    "    tb1 = pandas.read_csv(os.path.join(pathToFiles, 'bill_of_materials.csv'))\n",
    "    tb2 = pandas.read_csv(os.path.join(pathToFiles, 'price_quote.csv'))\n",
    "    tb3 = pandas.read_csv(os.path.join(pathToFiles, 'comp_boss.csv'))\n",
    "except:\n",
    "    print('Arquivos não encontrados no local indicado!')"
   ]
  },
  {
   "cell_type": "code",
   "execution_count": null,
   "metadata": {},
   "outputs": [],
   "source": [
    "#Lê dados para conexão com servidor SQL Server de sh\n",
    "serverName = sys.argv[2]\n",
    "databaseName = sys.argv[3]\n",
    "driverName = sys.argv[4]\n",
    "schemaName = sys.argv[5]\n",
    "\n",
    "#Cria conexão\n",
    "engine = sa.create_engine('mssql://'+serverName+'/'+databaseName+'?trusted_connection=yes&'+driverName)"
   ]
  },
  {
   "cell_type": "code",
   "execution_count": null,
   "metadata": {},
   "outputs": [],
   "source": [
    "#Cria dimTubeAssembly\n",
    "dimTubeAssembly = tb1['tube_assembly_id']\n",
    "dimTubeAssembly.to_sql('dimTubeAssembly', engine, schema=schemaName, if_exists='replace', index=False)"
   ]
  },
  {
   "cell_type": "code",
   "execution_count": null,
   "metadata": {},
   "outputs": [],
   "source": [
    "#Corta tabela de componentes para append\n",
    "tb_1 = tb1.drop([\n",
    "    'component_id_2','quantity_2',\n",
    "    'component_id_3','quantity_3',\n",
    "    'component_id_4','quantity_4',\n",
    "    'component_id_5','quantity_5',\n",
    "    'component_id_6','quantity_6',\n",
    "    'component_id_7','quantity_7',\n",
    "    'component_id_8','quantity_8'\n",
    "], axis=1)\n",
    "tb_1.columns = ['tube_assembly_id','component_id','quantity']\n",
    "tb_1['component_index'] = 1\n",
    "\n",
    "tb_2 = tb1.drop([\n",
    "    'component_id_1','quantity_1',\n",
    "    'component_id_3','quantity_3',\n",
    "    'component_id_4','quantity_4',\n",
    "    'component_id_5','quantity_5',\n",
    "    'component_id_6','quantity_6',\n",
    "    'component_id_7','quantity_7',\n",
    "    'component_id_8','quantity_8'\n",
    "], axis=1)\n",
    "tb_2.columns = ['tube_assembly_id','component_id','quantity']\n",
    "tb_2['component_index'] = 2\n",
    "\n",
    "tb_3 = tb1.drop([\n",
    "    'component_id_1','quantity_1',\n",
    "    'component_id_2','quantity_2',\n",
    "    'component_id_4','quantity_4',\n",
    "    'component_id_5','quantity_5',\n",
    "    'component_id_6','quantity_6',\n",
    "    'component_id_7','quantity_7',\n",
    "    'component_id_8','quantity_8'\n",
    "], axis=1)\n",
    "tb_3.columns = ['tube_assembly_id','component_id','quantity']\n",
    "tb_3['component_index'] = 3\n",
    "\n",
    "tb_4 = tb1.drop([\n",
    "    'component_id_1','quantity_1',\n",
    "    'component_id_2','quantity_2',\n",
    "    'component_id_3','quantity_3',\n",
    "    'component_id_5','quantity_5',\n",
    "    'component_id_6','quantity_6',\n",
    "    'component_id_7','quantity_7',\n",
    "    'component_id_8','quantity_8'\n",
    "], axis=1)\n",
    "tb_4.columns = ['tube_assembly_id','component_id','quantity']\n",
    "tb_4['component_index'] = 4\n",
    "\n",
    "tb_5 = tb1.drop([\n",
    "    'component_id_1','quantity_1',\n",
    "    'component_id_2','quantity_2',\n",
    "    'component_id_3','quantity_3',\n",
    "    'component_id_4','quantity_4',\n",
    "    'component_id_6','quantity_6',\n",
    "    'component_id_7','quantity_7',\n",
    "    'component_id_8','quantity_8'\n",
    "], axis=1)\n",
    "tb_5.columns = ['tube_assembly_id','component_id','quantity']\n",
    "tb_5['component_index'] = 5\n",
    "\n",
    "tb_6 = tb1.drop([\n",
    "    'component_id_1','quantity_1',\n",
    "    'component_id_2','quantity_2',\n",
    "    'component_id_3','quantity_3',\n",
    "    'component_id_4','quantity_4',\n",
    "    'component_id_5','quantity_5',\n",
    "    'component_id_7','quantity_7',\n",
    "    'component_id_8','quantity_8'\n",
    "], axis=1)\n",
    "tb_6.columns = ['tube_assembly_id','component_id','quantity']\n",
    "tb_6['component_index'] = 6\n",
    "\n",
    "tb_7 = tb1.drop([\n",
    "    'component_id_1','quantity_1',\n",
    "    'component_id_2','quantity_2',\n",
    "    'component_id_3','quantity_3',\n",
    "    'component_id_4','quantity_4',\n",
    "    'component_id_5','quantity_5',\n",
    "    'component_id_6','quantity_6',\n",
    "    'component_id_8','quantity_8'\n",
    "], axis=1)\n",
    "tb_7.columns = ['tube_assembly_id','component_id','quantity']\n",
    "tb_7['component_index'] = 7\n",
    "\n",
    "tb_8 = tb1.drop([\n",
    "    'component_id_1','quantity_1',\n",
    "    'component_id_2','quantity_2',\n",
    "    'component_id_3','quantity_3',\n",
    "    'component_id_4','quantity_4',\n",
    "    'component_id_5','quantity_5',\n",
    "    'component_id_6','quantity_6',\n",
    "    'component_id_7','quantity_7'\n",
    "], axis=1)\n",
    "tb_8.columns = ['tube_assembly_id','component_id','quantity']\n",
    "tb_8['component_index'] = 8"
   ]
  },
  {
   "cell_type": "code",
   "execution_count": null,
   "metadata": {},
   "outputs": [],
   "source": [
    "##Gera tabela fatoTubeAssemblyComponent\n",
    "fatoTubeAssemblyComponent = tb_1.append(tb_2)\n",
    "fatoTubeAssemblyComponent.append(tb_3)\n",
    "fatoTubeAssemblyComponent.append(tb_4)\n",
    "fatoTubeAssemblyComponent.append(tb_5)\n",
    "fatoTubeAssemblyComponent.append(tb_6)\n",
    "fatoTubeAssemblyComponent.append(tb_7)\n",
    "fatoTubeAssemblyComponent.append(tb_8)\n",
    "fatoTubeAssemblyComponent = fatoTubeAssemblyComponent.dropna()\n",
    "dimTubeAssembly.to_sql('fatoTubeAssemblyComponent', engine, schema=schemaName, if_exists='replace', index=False)"
   ]
  },
  {
   "cell_type": "code",
   "execution_count": null,
   "metadata": {},
   "outputs": [],
   "source": [
    "#Gera tabela fatoPriceQuoteBracket\n",
    "tb2_1 = tb2.loc[tb2['bracket_pricing'] == 'Yes']\n",
    "fatoPriceQuoteBracket = tb2_1.drop(['bracket_pricing','annual_usage','min_order_quantity'],axis=1)\n",
    "fatoPriceQuoteBracket.to_sql('fatoPriceQuoteBracket', engine, schema=schemaName, if_exists='replace', index=False)"
   ]
  },
  {
   "cell_type": "code",
   "execution_count": null,
   "metadata": {},
   "outputs": [],
   "source": [
    "#Gera tabela fatoPriceQuoteNBracket\n",
    "tb2_1 = tb2.loc[tb2['bracket_pricing'] == 'No']\n",
    "fatoPriceQuoteNBracket = tb2_1.drop(['bracket_pricing'],axis=1)\n",
    "fatoPriceQuoteNBracket.to_sql('fatoPriceQuoteNBracket', engine, schema=schemaName, if_exists='replace', index=False)"
   ]
  },
  {
   "cell_type": "code",
   "execution_count": null,
   "metadata": {},
   "outputs": [],
   "source": [
    "#Gera tabela dimComponent\n",
    "tb3.to_sql('dimComponent', engine, schema=schemaName, if_exists='replace', index=False)"
   ]
  }
 ],
 "metadata": {
  "kernelspec": {
   "display_name": "Python 3",
   "language": "python",
   "name": "python3"
  },
  "language_info": {
   "codemirror_mode": {
    "name": "ipython",
    "version": 3
   },
   "file_extension": ".py",
   "mimetype": "text/x-python",
   "name": "python",
   "nbconvert_exporter": "python",
   "pygments_lexer": "ipython3",
   "version": "3.6.4"
  }
 },
 "nbformat": 4,
 "nbformat_minor": 2
}
